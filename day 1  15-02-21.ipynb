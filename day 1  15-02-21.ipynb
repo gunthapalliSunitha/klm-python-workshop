{
 "cells": [
  {
   "cell_type": "code",
   "execution_count": null,
   "metadata": {},
   "outputs": [],
   "source": []
  },
  {
   "cell_type": "markdown",
   "metadata": {},
   "source": [
    "# sunitha yadav\n",
    "## sunitha yadav\n",
    "### sunitha yadav\n",
    "#### sunitha yadav\n",
    "##### sunitha yadav\n",
    "###### sunitha yadav"
   ]
  },
  {
   "cell_type": "markdown",
   "metadata": {},
   "source": [
    "* ordered list\n",
    "    1. ap\n",
    "        1. kadapa\n",
    "        2. ananthapur\n",
    "        3. chitoor\n",
    "    2. ts\n",
    "        1. hyderabad\n",
    "        2. medhak\n",
    "        3. nizamabad\n",
    "    3. tn\n",
    "        1. kanchipuram\n",
    "        2. chennai\n",
    "* unoredred list\n",
    "    1. klm\n",
    "        1. cse\n",
    "        2. civil\n",
    "        3. ece\n",
    "    2. ksrm\n",
    "        1. cse\n",
    "        2. ece\n",
    "        3. civil\n",
    "        4. mech\n",
    "        5. eee\n",
    "    3. korm\n",
    "        1. cse\n",
    "        2. ece\n",
    "        3. eee\n",
    "        4. civil\n",
    "        5. mech"
   ]
  },
  {
   "cell_type": "code",
   "execution_count": 2,
   "metadata": {},
   "outputs": [
    {
     "name": "stdout",
     "output_type": "stream",
     "text": [
      "the value of a is 4\n"
     ]
    }
   ],
   "source": [
    "# variable declaration in python\n",
    "a=4\n",
    "print(\"the value of a is\",a)"
   ]
  },
  {
   "cell_type": "code",
   "execution_count": 4,
   "metadata": {},
   "outputs": [
    {
     "name": "stdout",
     "output_type": "stream",
     "text": [
      "10 3.5 5\n"
     ]
    }
   ],
   "source": [
    "a=10\n",
    "b=3.5\n",
    "c=5\n",
    "print(a,b,c)"
   ]
  },
  {
   "cell_type": "code",
   "execution_count": 5,
   "metadata": {},
   "outputs": [
    {
     "name": "stdout",
     "output_type": "stream",
     "text": [
      "the value of a,b,c is 10 4.6 3\n"
     ]
    }
   ],
   "source": [
    "a=10\n",
    "b=4.6\n",
    "c=3\n",
    "print(\"the value of a,b,c is\",a,b,c)"
   ]
  },
  {
   "cell_type": "code",
   "execution_count": 6,
   "metadata": {},
   "outputs": [
    {
     "data": {
      "text/plain": [
       "20"
      ]
     },
     "execution_count": 6,
     "metadata": {},
     "output_type": "execute_result"
    }
   ],
   "source": [
    "x,y,z=10,20,30\n",
    "y"
   ]
  },
  {
   "cell_type": "code",
   "execution_count": 7,
   "metadata": {},
   "outputs": [
    {
     "data": {
      "text/plain": [
       "40"
      ]
     },
     "execution_count": 7,
     "metadata": {},
     "output_type": "execute_result"
    }
   ],
   "source": [
    "x+z"
   ]
  },
  {
   "cell_type": "markdown",
   "metadata": {},
   "source": [
    "# write a program of basic arthimetic operations "
   ]
  },
  {
   "cell_type": "code",
   "execution_count": 1,
   "metadata": {},
   "outputs": [
    {
     "name": "stdout",
     "output_type": "stream",
     "text": [
      "addition of a and b is: 650\n"
     ]
    }
   ],
   "source": [
    "a=450\n",
    "b=200\n",
    "print(\"addition of a and b is:\",a+b)"
   ]
  },
  {
   "cell_type": "code",
   "execution_count": 2,
   "metadata": {},
   "outputs": [
    {
     "name": "stdout",
     "output_type": "stream",
     "text": [
      "subtraction of a and b is: -300\n"
     ]
    }
   ],
   "source": [
    "a=350\n",
    "b=650\n",
    "print(\"subtraction of a and b is:\",a-b)"
   ]
  },
  {
   "cell_type": "code",
   "execution_count": 3,
   "metadata": {},
   "outputs": [
    {
     "name": "stdout",
     "output_type": "stream",
     "text": [
      "multiply of a and b is: 1000\n"
     ]
    }
   ],
   "source": [
    "a=20\n",
    "b=50\n",
    "print(\"multiply of a and b is:\",a*b)"
   ]
  },
  {
   "cell_type": "code",
   "execution_count": 4,
   "metadata": {},
   "outputs": [
    {
     "name": "stdout",
     "output_type": "stream",
     "text": [
      "division of a and b is: 40.0\n"
     ]
    }
   ],
   "source": [
    "a=200\n",
    "b=5\n",
    "print(\"division of a and b is:\",a/b)"
   ]
  },
  {
   "cell_type": "code",
   "execution_count": 5,
   "metadata": {},
   "outputs": [
    {
     "name": "stdout",
     "output_type": "stream",
     "text": [
      "percentage of a and b: 0\n"
     ]
    }
   ],
   "source": [
    "a=60\n",
    "b=10\n",
    "print(\"percentage of a and b:\",a%b)"
   ]
  },
  {
   "cell_type": "code",
   "execution_count": 8,
   "metadata": {},
   "outputs": [
    {
     "name": "stdout",
     "output_type": "stream",
     "text": [
      "power of a and b: 4\n"
     ]
    }
   ],
   "source": [
    "a=2\n",
    "b=2\n",
    "print(\"power of a and b:\",a**b)"
   ]
  },
  {
   "cell_type": "code",
   "execution_count": null,
   "metadata": {},
   "outputs": [],
   "source": []
  }
 ],
 "metadata": {
  "kernelspec": {
   "display_name": "Python 3",
   "language": "python",
   "name": "python3"
  },
  "language_info": {
   "codemirror_mode": {
    "name": "ipython",
    "version": 3
   },
   "file_extension": ".py",
   "mimetype": "text/x-python",
   "name": "python",
   "nbconvert_exporter": "python",
   "pygments_lexer": "ipython3",
   "version": "3.8.5"
  }
 },
 "nbformat": 4,
 "nbformat_minor": 4
}
